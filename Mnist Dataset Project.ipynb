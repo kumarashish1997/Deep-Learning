{
 "cells": [
  {
   "cell_type": "code",
   "execution_count": 1,
   "id": "23d04e63",
   "metadata": {},
   "outputs": [
    {
     "name": "stdout",
     "output_type": "stream",
     "text": [
      "Requirement already satisfied: keras in c:\\users\\pavilion\\anaconda3\\lib\\site-packages (2.12.0)\n"
     ]
    },
    {
     "name": "stderr",
     "output_type": "stream",
     "text": [
      "WARNING: Ignoring invalid distribution -ensorflow-intel (c:\\users\\pavilion\\anaconda3\\lib\\site-packages)\n",
      "WARNING: Ignoring invalid distribution -ensorflow-intel (c:\\users\\pavilion\\anaconda3\\lib\\site-packages)\n",
      "WARNING: Ignoring invalid distribution -ensorflow-intel (c:\\users\\pavilion\\anaconda3\\lib\\site-packages)\n",
      "WARNING: Ignoring invalid distribution -ensorflow-intel (c:\\users\\pavilion\\anaconda3\\lib\\site-packages)\n",
      "WARNING: Ignoring invalid distribution -ensorflow-intel (c:\\users\\pavilion\\anaconda3\\lib\\site-packages)\n",
      "WARNING: Ignoring invalid distribution -ensorflow-intel (c:\\users\\pavilion\\anaconda3\\lib\\site-packages)\n"
     ]
    }
   ],
   "source": [
    "!pip install keras"
   ]
  },
  {
   "cell_type": "markdown",
   "id": "136fca6f",
   "metadata": {},
   "source": [
    "# Loaded Libary"
   ]
  },
  {
   "cell_type": "code",
   "execution_count": 2,
   "id": "5b76ea92",
   "metadata": {},
   "outputs": [],
   "source": [
    "import matplotlib.pyplot as plt\n",
    "from keras.layers import Dense, Flatten\n",
    "from keras.models import Sequential\n",
    "from keras import utils\n",
    "from keras.utils import to_categorical\n",
    "from keras.datasets import mnist"
   ]
  },
  {
   "cell_type": "markdown",
   "id": "9af392cd",
   "metadata": {},
   "source": [
    "# Load Datset"
   ]
  },
  {
   "cell_type": "code",
   "execution_count": 3,
   "id": "2624765f",
   "metadata": {},
   "outputs": [],
   "source": [
    "(X_train, y_train), (X_test, y_test) = mnist.load_data()"
   ]
  },
  {
   "cell_type": "markdown",
   "id": "d3578362",
   "metadata": {},
   "source": [
    "# Check Shape "
   ]
  },
  {
   "cell_type": "code",
   "execution_count": 4,
   "id": "103ec01e",
   "metadata": {},
   "outputs": [
    {
     "data": {
      "text/plain": [
       "(60000, 28, 28)"
      ]
     },
     "execution_count": 4,
     "metadata": {},
     "output_type": "execute_result"
    }
   ],
   "source": [
    "X_train.shape"
   ]
  },
  {
   "cell_type": "code",
   "execution_count": 5,
   "id": "6fe4f69f",
   "metadata": {},
   "outputs": [
    {
     "data": {
      "text/plain": [
       "(60000,)"
      ]
     },
     "execution_count": 5,
     "metadata": {},
     "output_type": "execute_result"
    }
   ],
   "source": [
    "y_train.shape"
   ]
  },
  {
   "cell_type": "code",
   "execution_count": 6,
   "id": "ddec4e17",
   "metadata": {},
   "outputs": [
    {
     "data": {
      "text/plain": [
       "(10000, 28, 28)"
      ]
     },
     "execution_count": 6,
     "metadata": {},
     "output_type": "execute_result"
    }
   ],
   "source": [
    "X_test.shape"
   ]
  },
  {
   "cell_type": "code",
   "execution_count": 7,
   "id": "8e3b4b0b",
   "metadata": {},
   "outputs": [
    {
     "data": {
      "text/plain": [
       "(10000,)"
      ]
     },
     "execution_count": 7,
     "metadata": {},
     "output_type": "execute_result"
    }
   ],
   "source": [
    "y_test.shape"
   ]
  },
  {
   "cell_type": "markdown",
   "id": "f2ac3d85",
   "metadata": {},
   "source": [
    "# Plot  numbers"
   ]
  },
  {
   "cell_type": "code",
   "execution_count": 8,
   "id": "54016e9e",
   "metadata": {},
   "outputs": [
    {
     "data": {
      "image/png": "[encoded data removed]",
      "text/plain": [
       "<Figure size 2000x400 with 10 Axes>"
      ]
     },
     "metadata": {},
     "output_type": "display_data"
    }
   ],
   "source": [
    "fig, ax = plt.subplots(ncols = 10, sharex = False, sharey = True, figsize = (20,4))\n",
    "for i in range(10):\n",
    "    ax[i].set_title(y_train[i])\n",
    "    ax[i].imshow(X_train[i], cmap = 'gray')\n",
    "    ax[i].get_xaxis().set_visible(False)\n",
    "    ax[i].get_yaxis().set_visible(False)\n",
    "plt.show()"
   ]
  },
  {
   "cell_type": "markdown",
   "id": "5063a675",
   "metadata": {},
   "source": [
    "# Change Output In Categorical Form"
   ]
  },
  {
   "cell_type": "code",
   "execution_count": 9,
   "id": "04c6578e",
   "metadata": {},
   "outputs": [],
   "source": [
    "y_train = to_categorical(y_train)\n",
    "y_test = to_categorical(y_test)"
   ]
  },
  {
   "cell_type": "code",
   "execution_count": 10,
   "id": "22fd3d25",
   "metadata": {},
   "outputs": [
    {
     "data": {
      "text/plain": [
       "(60000, 10)"
      ]
     },
     "execution_count": 10,
     "metadata": {},
     "output_type": "execute_result"
    }
   ],
   "source": [
    "y_train.shape"
   ]
  },
  {
   "cell_type": "code",
   "execution_count": 11,
   "id": "642751e3",
   "metadata": {},
   "outputs": [
    {
     "data": {
      "text/plain": [
       "(10000, 10)"
      ]
     },
     "execution_count": 11,
     "metadata": {},
     "output_type": "execute_result"
    }
   ],
   "source": [
    "y_test.shape"
   ]
  },
  {
   "cell_type": "code",
   "execution_count": 12,
   "id": "a6235cf1",
   "metadata": {},
   "outputs": [
    {
     "data": {
      "text/plain": [
       "array([[0., 0., 0., ..., 0., 0., 0.],\n",
       "       [1., 0., 0., ..., 0., 0., 0.],\n",
       "       [0., 0., 0., ..., 0., 0., 0.],\n",
       "       ...,\n",
       "       [0., 0., 0., ..., 0., 0., 0.],\n",
       "       [0., 0., 0., ..., 0., 0., 0.],\n",
       "       [0., 0., 0., ..., 0., 1., 0.]], dtype=float32)"
      ]
     },
     "execution_count": 12,
     "metadata": {},
     "output_type": "execute_result"
    }
   ],
   "source": [
    "y_train"
   ]
  },
  {
   "cell_type": "code",
   "execution_count": 13,
   "id": "d9649265",
   "metadata": {},
   "outputs": [
    {
     "data": {
      "text/plain": [
       "array([[0., 0., 0., ..., 1., 0., 0.],\n",
       "       [0., 0., 1., ..., 0., 0., 0.],\n",
       "       [0., 1., 0., ..., 0., 0., 0.],\n",
       "       ...,\n",
       "       [0., 0., 0., ..., 0., 0., 0.],\n",
       "       [0., 0., 0., ..., 0., 0., 0.],\n",
       "       [0., 0., 0., ..., 0., 0., 0.]], dtype=float32)"
      ]
     },
     "execution_count": 13,
     "metadata": {},
     "output_type": "execute_result"
    }
   ],
   "source": [
    "y_test"
   ]
  },
  {
   "cell_type": "markdown",
   "id": "8fbb1d31",
   "metadata": {},
   "source": [
    "# Model"
   ]
  },
  {
   "cell_type": "code",
   "execution_count": 14,
   "id": "c45f5f7f",
   "metadata": {},
   "outputs": [],
   "source": [
    "model = Sequential()\n",
    "model.add(Flatten(input_shape=(28,28)))\n",
    "model.add(Dense(10, activation = 'sigmoid'))\n",
    "model.add(Dense(5, activation='sigmoid'))\n",
    "model.add(Dense(10, activation='softmax'))"
   ]
  },
  {
   "cell_type": "code",
   "execution_count": 15,
   "id": "eae1ca4f",
   "metadata": {},
   "outputs": [
    {
     "name": "stdout",
     "output_type": "stream",
     "text": [
      "Model: \"sequential\"\n",
      "_________________________________________________________________\n",
      " Layer (type)                Output Shape              Param #   \n",
      "=================================================================\n",
      " flatten (Flatten)           (None, 784)               0         \n",
      "                                                                 \n",
      " dense (Dense)               (None, 10)                7850      \n",
      "                                                                 \n",
      " dense_1 (Dense)             (None, 5)                 55        \n",
      "                                                                 \n",
      " dense_2 (Dense)             (None, 10)                60        \n",
      "                                                                 \n",
      "=================================================================\n",
      "Total params: 7,965\n",
      "Trainable params: 7,965\n",
      "Non-trainable params: 0\n",
      "_________________________________________________________________\n"
     ]
    }
   ],
   "source": [
    "model.summary()"
   ]
  },
  {
   "cell_type": "code",
   "execution_count": 16,
   "id": "7d95525c",
   "metadata": {},
   "outputs": [
    {
     "name": "stdout",
     "output_type": "stream",
     "text": [
      "Requirement already satisfied: pydot in c:\\users\\pavilion\\anaconda3\\lib\\site-packages (1.4.2)\n",
      "Requirement already satisfied: pyparsing>=2.1.4 in c:\\users\\pavilion\\anaconda3\\lib\\site-packages (from pydot) (3.0.9)\n"
     ]
    },
    {
     "name": "stderr",
     "output_type": "stream",
     "text": [
      "WARNING: Ignoring invalid distribution -ensorflow-intel (c:\\users\\pavilion\\anaconda3\\lib\\site-packages)\n",
      "WARNING: Ignoring invalid distribution -ensorflow-intel (c:\\users\\pavilion\\anaconda3\\lib\\site-packages)\n",
      "WARNING: Ignoring invalid distribution -ensorflow-intel (c:\\users\\pavilion\\anaconda3\\lib\\site-packages)\n",
      "WARNING: Ignoring invalid distribution -ensorflow-intel (c:\\users\\pavilion\\anaconda3\\lib\\site-packages)\n",
      "WARNING: Ignoring invalid distribution -ensorflow-intel (c:\\users\\pavilion\\anaconda3\\lib\\site-packages)\n",
      "WARNING: Ignoring invalid distribution -ensorflow-intel (c:\\users\\pavilion\\anaconda3\\lib\\site-packages)\n"
     ]
    }
   ],
   "source": [
    "!pip install pydot"
   ]
  },
  {
   "cell_type": "code",
   "execution_count": 17,
   "id": "cf3ccc53",
   "metadata": {},
   "outputs": [
    {
     "name": "stdout",
     "output_type": "stream",
     "text": [
      "You must install pydot (`pip install pydot`) and install graphviz (see instructions at https://graphviz.gitlab.io/download/) for plot_model to work.\n"
     ]
    }
   ],
   "source": [
    "utils.plot_model(model, show_shapes = True)"
   ]
  },
  {
   "cell_type": "code",
   "execution_count": 18,
   "id": "9a2d1c6e",
   "metadata": {},
   "outputs": [
    {
     "name": "stdout",
     "output_type": "stream",
     "text": [
      "Model: \"sequential\"\n",
      "_________________________________________________________________\n",
      " Layer (type)                Output Shape              Param #   \n",
      "=================================================================\n",
      " flatten (Flatten)           (None, 784)               0         \n",
      "                                                                 \n",
      " dense (Dense)               (None, 10)                7850      \n",
      "                                                                 \n",
      " dense_1 (Dense)             (None, 5)                 55        \n",
      "                                                                 \n",
      " dense_2 (Dense)             (None, 10)                60        \n",
      "                                                                 \n",
      "=================================================================\n",
      "Total params: 7,965\n",
      "Trainable params: 7,965\n",
      "Non-trainable params: 0\n",
      "_________________________________________________________________\n"
     ]
    }
   ],
   "source": [
    "model.summary()"
   ]
  },
  {
   "cell_type": "code",
   "execution_count": 19,
   "id": "69a04f30",
   "metadata": {},
   "outputs": [],
   "source": [
    "model.compile(loss = 'categorical_crossentropy',optimizer = 'adam', metrics = ['acc'])"
   ]
  },
  {
   "cell_type": "code",
   "execution_count": 20,
   "id": "5d126c1f",
   "metadata": {},
   "outputs": [
    {
     "name": "stdout",
     "output_type": "stream",
     "text": [
      "Epoch 1/25\n",
      "1875/1875 [==============================] - 10s 5ms/step - loss: 1.8450 - acc: 0.3922 - val_loss: 1.5018 - val_acc: 0.5564\n",
      "Epoch 2/25\n",
      "1875/1875 [==============================] - 8s 4ms/step - loss: 1.3543 - acc: 0.5687 - val_loss: 1.2310 - val_acc: 0.6278\n",
      "Epoch 3/25\n",
      "1875/1875 [==============================] - 8s 4ms/step - loss: 1.1704 - acc: 0.6097 - val_loss: 1.0952 - val_acc: 0.6360\n",
      "Epoch 4/25\n",
      "1875/1875 [==============================] - 8s 4ms/step - loss: 1.0753 - acc: 0.6228 - val_loss: 1.0230 - val_acc: 0.6410\n",
      "Epoch 5/25\n",
      "1875/1875 [==============================] - 8s 4ms/step - loss: 1.0132 - acc: 0.6395 - val_loss: 0.9872 - val_acc: 0.6458\n",
      "Epoch 6/25\n",
      "1875/1875 [==============================] - 8s 4ms/step - loss: 0.9554 - acc: 0.6512 - val_loss: 0.9314 - val_acc: 0.6415\n",
      "Epoch 7/25\n",
      "1875/1875 [==============================] - 8s 4ms/step - loss: 0.9142 - acc: 0.6708 - val_loss: 0.9049 - val_acc: 0.7108\n",
      "Epoch 8/25\n",
      "1875/1875 [==============================] - 8s 4ms/step - loss: 0.8826 - acc: 0.6978 - val_loss: 0.8561 - val_acc: 0.6964\n",
      "Epoch 9/25\n",
      "1875/1875 [==============================] - 8s 4ms/step - loss: 0.8483 - acc: 0.7017 - val_loss: 0.8326 - val_acc: 0.7018\n",
      "Epoch 10/25\n",
      "1875/1875 [==============================] - 8s 4ms/step - loss: 0.8127 - acc: 0.7145 - val_loss: 0.8024 - val_acc: 0.7236\n",
      "Epoch 11/25\n",
      "1875/1875 [==============================] - 8s 4ms/step - loss: 0.7991 - acc: 0.7215 - val_loss: 0.7994 - val_acc: 0.7102\n",
      "Epoch 12/25\n",
      "1875/1875 [==============================] - 8s 4ms/step - loss: 0.7967 - acc: 0.7181 - val_loss: 0.7870 - val_acc: 0.7243\n",
      "Epoch 13/25\n",
      "1875/1875 [==============================] - 8s 4ms/step - loss: 0.7748 - acc: 0.7407 - val_loss: 0.7557 - val_acc: 0.7631\n",
      "Epoch 14/25\n",
      "1875/1875 [==============================] - 8s 4ms/step - loss: 0.7572 - acc: 0.7614 - val_loss: 0.7464 - val_acc: 0.7564\n",
      "Epoch 15/25\n",
      "1875/1875 [==============================] - 8s 4ms/step - loss: 0.7373 - acc: 0.7755 - val_loss: 0.7099 - val_acc: 0.7888\n",
      "Epoch 16/25\n",
      "1875/1875 [==============================] - 8s 4ms/step - loss: 0.7125 - acc: 0.7812 - val_loss: 0.7558 - val_acc: 0.7708\n",
      "Epoch 17/25\n",
      "1875/1875 [==============================] - 8s 4ms/step - loss: 0.6950 - acc: 0.7978 - val_loss: 0.6600 - val_acc: 0.8157\n",
      "Epoch 18/25\n",
      "1875/1875 [==============================] - 8s 4ms/step - loss: 0.6650 - acc: 0.8145 - val_loss: 0.6596 - val_acc: 0.8190\n",
      "Epoch 19/25\n",
      "1875/1875 [==============================] - 8s 4ms/step - loss: 0.6569 - acc: 0.8205 - val_loss: 0.6509 - val_acc: 0.8261\n",
      "Epoch 20/25\n",
      "1875/1875 [==============================] - 8s 4ms/step - loss: 0.6547 - acc: 0.8232 - val_loss: 0.6827 - val_acc: 0.7963\n",
      "Epoch 21/25\n",
      "1875/1875 [==============================] - 8s 4ms/step - loss: 0.6355 - acc: 0.8249 - val_loss: 0.6117 - val_acc: 0.8340\n",
      "Epoch 22/25\n",
      "1875/1875 [==============================] - 8s 4ms/step - loss: 0.6270 - acc: 0.8301 - val_loss: 0.6422 - val_acc: 0.8258\n",
      "Epoch 23/25\n",
      "1875/1875 [==============================] - 8s 4ms/step - loss: 0.6156 - acc: 0.8321 - val_loss: 0.5874 - val_acc: 0.8375\n",
      "Epoch 24/25\n",
      "1875/1875 [==============================] - 8s 4ms/step - loss: 0.6001 - acc: 0.8375 - val_loss: 0.5957 - val_acc: 0.8287\n",
      "Epoch 25/25\n",
      "1875/1875 [==============================] - 8s 4ms/step - loss: 0.6009 - acc: 0.8353 - val_loss: 0.5906 - val_acc: 0.8401\n"
     ]
    }
   ],
   "source": [
    "history = model.fit(X_train, y_train , validation_data = (X_test, y_test), epochs = 25)"
   ]
  },
  {
   "cell_type": "code",
   "execution_count": 21,
   "id": "096882b4",
   "metadata": {},
   "outputs": [],
   "source": [
    "model.save('mnist_model.h5')"
   ]
  },
  {
   "cell_type": "code",
   "execution_count": 22,
   "id": "cd2937e5",
   "metadata": {},
   "outputs": [
    {
     "data": {
      "text/plain": [
       "{'loss': [1.8449677228927612,\n",
       "  1.3542883396148682,\n",
       "  1.1703740358352661,\n",
       "  1.0753108263015747,\n",
       "  1.0132009983062744,\n",
       "  0.955400824546814,\n",
       "  0.9142165780067444,\n",
       "  0.8826373219490051,\n",
       "  0.8483441472053528,\n",
       "  0.8126538991928101,\n",
       "  0.7991359233856201,\n",
       "  0.7967223525047302,\n",
       "  0.7748172283172607,\n",
       "  0.7572063207626343,\n",
       "  0.7372747659683228,\n",
       "  0.7125018239021301,\n",
       "  0.6950021386146545,\n",
       "  0.6650243401527405,\n",
       "  0.6569433808326721,\n",
       "  0.6547158360481262,\n",
       "  0.6354639530181885,\n",
       "  0.6270363330841064,\n",
       "  0.6156091094017029,\n",
       "  0.6001293063163757,\n",
       "  0.6009127497673035],\n",
       " 'acc': [0.39223334193229675,\n",
       "  0.5687333345413208,\n",
       "  0.609749972820282,\n",
       "  0.6227999925613403,\n",
       "  0.6394833326339722,\n",
       "  0.651199996471405,\n",
       "  0.6707666516304016,\n",
       "  0.697783350944519,\n",
       "  0.7016833424568176,\n",
       "  0.7145166397094727,\n",
       "  0.7215333580970764,\n",
       "  0.7180500030517578,\n",
       "  0.7407166957855225,\n",
       "  0.7613666653633118,\n",
       "  0.7754999995231628,\n",
       "  0.7811999917030334,\n",
       "  0.7978333234786987,\n",
       "  0.814466655254364,\n",
       "  0.8205000162124634,\n",
       "  0.8232166767120361,\n",
       "  0.8249499797821045,\n",
       "  0.8300833106040955,\n",
       "  0.8321333527565002,\n",
       "  0.8374500274658203,\n",
       "  0.835266649723053],\n",
       " 'val_loss': [1.5018126964569092,\n",
       "  1.2309898138046265,\n",
       "  1.0951895713806152,\n",
       "  1.0229932069778442,\n",
       "  0.9872199296951294,\n",
       "  0.9313750267028809,\n",
       "  0.9049329161643982,\n",
       "  0.8561445474624634,\n",
       "  0.8326156139373779,\n",
       "  0.8023799061775208,\n",
       "  0.7993826270103455,\n",
       "  0.7869636416435242,\n",
       "  0.7556712627410889,\n",
       "  0.7464278340339661,\n",
       "  0.7098696827888489,\n",
       "  0.7558100819587708,\n",
       "  0.6599822044372559,\n",
       "  0.6596127152442932,\n",
       "  0.6508749723434448,\n",
       "  0.6827364563941956,\n",
       "  0.6117411255836487,\n",
       "  0.6421962380409241,\n",
       "  0.5874326825141907,\n",
       "  0.5957097411155701,\n",
       "  0.5906049609184265],\n",
       " 'val_acc': [0.5564000010490417,\n",
       "  0.6277999877929688,\n",
       "  0.6359999775886536,\n",
       "  0.640999972820282,\n",
       "  0.645799994468689,\n",
       "  0.6414999961853027,\n",
       "  0.7107999920845032,\n",
       "  0.696399986743927,\n",
       "  0.7017999887466431,\n",
       "  0.7235999703407288,\n",
       "  0.7102000117301941,\n",
       "  0.7243000268936157,\n",
       "  0.7631000280380249,\n",
       "  0.7563999891281128,\n",
       "  0.7888000011444092,\n",
       "  0.770799994468689,\n",
       "  0.8156999945640564,\n",
       "  0.8190000057220459,\n",
       "  0.8260999917984009,\n",
       "  0.7962999939918518,\n",
       "  0.8339999914169312,\n",
       "  0.8258000016212463,\n",
       "  0.8374999761581421,\n",
       "  0.8287000060081482,\n",
       "  0.8400999903678894]}"
      ]
     },
     "execution_count": 22,
     "metadata": {},
     "output_type": "execute_result"
    }
   ],
   "source": [
    "history.history"
   ]
  },
  {
   "cell_type": "code",
   "execution_count": 23,
   "id": "a1b02dd1",
   "metadata": {},
   "outputs": [
    {
     "data": {
      "text/plain": [
       "<matplotlib.legend.Legend at 0x139b3176220>"
      ]
     },
     "execution_count": 23,
     "metadata": {},
     "output_type": "execute_result"
    },
    {
     "data": {
      "image/png": "[encoded data removed]",
      "text/plain": [
       "<Figure size 640x480 with 1 Axes>"
      ]
     },
     "metadata": {},
     "output_type": "display_data"
    }
   ],
   "source": [
    "plt.plot(history.history['loss'], label = 'Train_loss')\n",
    "plt.plot(history.history['val_loss'], label = 'Validation_loss')\n",
    "plt.legend()"
   ]
  },
  {
   "cell_type": "code",
   "execution_count": 24,
   "id": "de4b92d3",
   "metadata": {},
   "outputs": [
    {
     "data": {
      "text/plain": [
       "<matplotlib.legend.Legend at 0x139b43c2a30>"
      ]
     },
     "execution_count": 24,
     "metadata": {},
     "output_type": "execute_result"
    },
    {
     "data": {
      "image/png": "[encoded data removed]",
      "text/plain": [
       "<Figure size 640x480 with 1 Axes>"
      ]
     },
     "metadata": {},
     "output_type": "display_data"
    }
   ],
   "source": [
    "plt.plot(history.history['acc'], label = 'Train_acc')\n",
    "plt.plot(history.history['val_acc'], label = 'Validation_acc')\n",
    "plt.legend()"
   ]
  },
  {
   "cell_type": "code",
   "execution_count": 26,
   "id": "f1f28602",
   "metadata": {},
   "outputs": [],
   "source": [
    "import keras"
   ]
  },
  {
   "cell_type": "code",
   "execution_count": 27,
   "id": "b09ba73e",
   "metadata": {},
   "outputs": [],
   "source": [
    "model = keras.models.load_model('mnist_model.h5')"
   ]
  },
  {
   "cell_type": "code",
   "execution_count": 28,
   "id": "23b83f44",
   "metadata": {},
   "outputs": [
    {
     "data": {
      "text/plain": [
       "<matplotlib.image.AxesImage at 0x139b453ffd0>"
      ]
     },
     "execution_count": 28,
     "metadata": {},
     "output_type": "execute_result"
    },
    {
     "data": {
      "image/png": "[encoded data removed]",
      "text/plain": [
       "<Figure size 640x480 with 1 Axes>"
      ]
     },
     "metadata": {},
     "output_type": "display_data"
    }
   ],
   "source": [
    "plt.imshow(X_test[0],cmap = 'gray')"
   ]
  },
  {
   "cell_type": "code",
   "execution_count": 30,
   "id": "4ea01931",
   "metadata": {},
   "outputs": [],
   "source": [
    "import numpy as np"
   ]
  },
  {
   "cell_type": "code",
   "execution_count": 34,
   "id": "819fdbff",
   "metadata": {},
   "outputs": [
    {
     "name": "stdout",
     "output_type": "stream",
     "text": [
      "1/1 [==============================] - 0s 283ms/step\n"
     ]
    },
    {
     "data": {
      "text/plain": [
       "7"
      ]
     },
     "execution_count": 34,
     "metadata": {},
     "output_type": "execute_result"
    }
   ],
   "source": [
    "x = np.reshape(X_test[0],(1,28,28))\n",
    "np.argmax(model.predict(x))"
   ]
  },
  {
   "cell_type": "code",
   "execution_count": 35,
   "id": "c6d7a947",
   "metadata": {},
   "outputs": [
    {
     "name": "stdout",
     "output_type": "stream",
     "text": [
      "1/1 [==============================] - 0s 54ms/step\n"
     ]
    },
    {
     "data": {
      "text/plain": [
       "array([[1.7309231e-04, 2.8669607e-04, 3.0584503e-03, 3.1270341e-05,\n",
       "        3.2165828e-03, 2.6733591e-04, 3.3841288e-04, 9.7953701e-01,\n",
       "        4.3371346e-04, 1.2657336e-02]], dtype=float32)"
      ]
     },
     "execution_count": 35,
     "metadata": {},
     "output_type": "execute_result"
    }
   ],
   "source": [
    "model.predict(x)"
   ]
  },
  {
   "cell_type": "code",
   "execution_count": null,
   "id": "cd006aee",
   "metadata": {},
   "outputs": [],
   "source": []
  }
 ],
 "metadata": {
  "kernelspec": {
   "display_name": "Python 3 (ipykernel)",
   "language": "python",
   "name": "python3"
  },
  "language_info": {
   "codemirror_mode": {
    "name": "ipython",
    "version": 3
   },
   "file_extension": ".py",
   "mimetype": "text/x-python",
   "name": "python",
   "nbconvert_exporter": "python",
   "pygments_lexer": "ipython3",
   "version": "3.9.13"
  }
 },
 "nbformat": 4,
 "nbformat_minor": 5
}
